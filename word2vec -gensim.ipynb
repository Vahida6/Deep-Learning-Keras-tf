{
 "cells": [
  {
   "cell_type": "code",
   "execution_count": 1,
   "id": "9c5f46ae",
   "metadata": {},
   "outputs": [],
   "source": [
    "# !pip install gensim\n",
    "# !pip install python-Levenshtein"
   ]
  },
  {
   "cell_type": "code",
   "execution_count": 2,
   "id": "391b04c4",
   "metadata": {},
   "outputs": [],
   "source": [
    "import gensim\n",
    "import pandas as pd"
   ]
  },
  {
   "cell_type": "markdown",
   "id": "39faac48",
   "metadata": {},
   "source": [
    "Reading and Exploring the Dataset\n",
    "The dataset using here is a subset of IMDB Reviews from the Kaggle Data Set."
   ]
  },
  {
   "cell_type": "code",
   "execution_count": 5,
   "id": "19db7cbc",
   "metadata": {},
   "outputs": [
    {
     "data": {
      "text/html": [
       "<div>\n",
       "<style scoped>\n",
       "    .dataframe tbody tr th:only-of-type {\n",
       "        vertical-align: middle;\n",
       "    }\n",
       "\n",
       "    .dataframe tbody tr th {\n",
       "        vertical-align: top;\n",
       "    }\n",
       "\n",
       "    .dataframe thead th {\n",
       "        text-align: right;\n",
       "    }\n",
       "</style>\n",
       "<table border=\"1\" class=\"dataframe\">\n",
       "  <thead>\n",
       "    <tr style=\"text-align: right;\">\n",
       "      <th></th>\n",
       "      <th>review</th>\n",
       "      <th>sentiment</th>\n",
       "    </tr>\n",
       "  </thead>\n",
       "  <tbody>\n",
       "    <tr>\n",
       "      <th>0</th>\n",
       "      <td>One of the other reviewers has mentioned that ...</td>\n",
       "      <td>positive</td>\n",
       "    </tr>\n",
       "    <tr>\n",
       "      <th>1</th>\n",
       "      <td>A wonderful little production. &lt;br /&gt;&lt;br /&gt;The...</td>\n",
       "      <td>positive</td>\n",
       "    </tr>\n",
       "    <tr>\n",
       "      <th>2</th>\n",
       "      <td>I thought this was a wonderful way to spend ti...</td>\n",
       "      <td>positive</td>\n",
       "    </tr>\n",
       "    <tr>\n",
       "      <th>3</th>\n",
       "      <td>Basically there's a family where a little boy ...</td>\n",
       "      <td>negative</td>\n",
       "    </tr>\n",
       "    <tr>\n",
       "      <th>4</th>\n",
       "      <td>Petter Mattei's \"Love in the Time of Money\" is...</td>\n",
       "      <td>positive</td>\n",
       "    </tr>\n",
       "  </tbody>\n",
       "</table>\n",
       "</div>"
      ],
      "text/plain": [
       "                                              review sentiment\n",
       "0  One of the other reviewers has mentioned that ...  positive\n",
       "1  A wonderful little production. <br /><br />The...  positive\n",
       "2  I thought this was a wonderful way to spend ti...  positive\n",
       "3  Basically there's a family where a little boy ...  negative\n",
       "4  Petter Mattei's \"Love in the Time of Money\" is...  positive"
      ]
     },
     "execution_count": 5,
     "metadata": {},
     "output_type": "execute_result"
    }
   ],
   "source": [
    "df = pd.read_excel(\"IMDB.xlsx\")\n",
    "df.head()"
   ]
  },
  {
   "cell_type": "code",
   "execution_count": 7,
   "id": "53ed8445",
   "metadata": {},
   "outputs": [
    {
     "data": {
      "text/plain": [
       "(249, 2)"
      ]
     },
     "execution_count": 7,
     "metadata": {},
     "output_type": "execute_result"
    }
   ],
   "source": [
    "df.shape"
   ]
  },
  {
   "cell_type": "markdown",
   "id": "4002bf6a",
   "metadata": {},
   "source": [
    "**Simple Preprocessing & Tokenization\n"
   ]
  },
  {
   "cell_type": "markdown",
   "id": "b6f7f18d",
   "metadata": {},
   "source": [
    "For NLP, we apply various processing like converting all the words to lower case, trimming spaces, removing punctuations. This is something we will do over here too.\n",
    "\n",
    "Additionally, we can also remove stop words like 'and', 'or', 'is', 'the', 'a', 'an' and convert words to their root forms like 'running' to 'run'."
   ]
  },
  {
   "cell_type": "code",
   "execution_count": 8,
   "id": "e547f070",
   "metadata": {},
   "outputs": [
    {
     "data": {
      "text/plain": [
       "Index(['review', 'sentiment'], dtype='object')"
      ]
     },
     "execution_count": 8,
     "metadata": {},
     "output_type": "execute_result"
    }
   ],
   "source": [
    "df.columns"
   ]
  },
  {
   "cell_type": "code",
   "execution_count": 9,
   "id": "35f7bb4e",
   "metadata": {},
   "outputs": [
    {
     "data": {
      "text/plain": [
       "0      [one, of, the, other, reviewers, has, mentione...\n",
       "1      [wonderful, little, production, br, br, the, f...\n",
       "2      [thought, this, was, wonderful, way, to, spend...\n",
       "3      [basically, there, family, where, little, boy,...\n",
       "4      [petter, mattei, love, in, the, time, of, mone...\n",
       "                             ...                        \n",
       "244    [based, on, edgar, rice, burroughs, novel, at,...\n",
       "245    [have, seen, this, film, at, least, times, and...\n",
       "246    [this, show, makes, absolutely, no, sense, eve...\n",
       "247    [this, movie, was, so, bad, it, was, funny, fo...\n",
       "248    [meryl, streep, is, such, genius, well, at, le...\n",
       "Name: review, Length: 249, dtype: object"
      ]
     },
     "execution_count": 9,
     "metadata": {},
     "output_type": "execute_result"
    }
   ],
   "source": [
    "review = df.review.apply(gensim.utils.simple_preprocess)\n",
    "review"
   ]
  },
  {
   "cell_type": "code",
   "execution_count": 11,
   "id": "b99158ef",
   "metadata": {},
   "outputs": [
    {
     "data": {
      "text/plain": [
       "['one',\n",
       " 'of',\n",
       " 'the',\n",
       " 'other',\n",
       " 'reviewers',\n",
       " 'has',\n",
       " 'mentioned',\n",
       " 'that',\n",
       " 'after',\n",
       " 'watching',\n",
       " 'just',\n",
       " 'oz',\n",
       " 'episode',\n",
       " 'you',\n",
       " 'll',\n",
       " 'be',\n",
       " 'hooked',\n",
       " 'they',\n",
       " 'are',\n",
       " 'right',\n",
       " 'as',\n",
       " 'this',\n",
       " 'is',\n",
       " 'exactly',\n",
       " 'what',\n",
       " 'happened',\n",
       " 'with',\n",
       " 'me',\n",
       " 'br',\n",
       " 'br',\n",
       " 'the',\n",
       " 'first',\n",
       " 'thing',\n",
       " 'that',\n",
       " 'struck',\n",
       " 'me',\n",
       " 'about',\n",
       " 'oz',\n",
       " 'was',\n",
       " 'its',\n",
       " 'brutality',\n",
       " 'and',\n",
       " 'unflinching',\n",
       " 'scenes',\n",
       " 'of',\n",
       " 'violence',\n",
       " 'which',\n",
       " 'set',\n",
       " 'in',\n",
       " 'right',\n",
       " 'from',\n",
       " 'the',\n",
       " 'word',\n",
       " 'go',\n",
       " 'trust',\n",
       " 'me',\n",
       " 'this',\n",
       " 'is',\n",
       " 'not',\n",
       " 'show',\n",
       " 'for',\n",
       " 'the',\n",
       " 'faint',\n",
       " 'hearted',\n",
       " 'or',\n",
       " 'timid',\n",
       " 'this',\n",
       " 'show',\n",
       " 'pulls',\n",
       " 'no',\n",
       " 'punches',\n",
       " 'with',\n",
       " 'regards',\n",
       " 'to',\n",
       " 'drugs',\n",
       " 'sex',\n",
       " 'or',\n",
       " 'violence',\n",
       " 'its',\n",
       " 'is',\n",
       " 'hardcore',\n",
       " 'in',\n",
       " 'the',\n",
       " 'classic',\n",
       " 'use',\n",
       " 'of',\n",
       " 'the',\n",
       " 'word',\n",
       " 'br',\n",
       " 'br',\n",
       " 'it',\n",
       " 'is',\n",
       " 'called',\n",
       " 'oz',\n",
       " 'as',\n",
       " 'that',\n",
       " 'is',\n",
       " 'the',\n",
       " 'nickname',\n",
       " 'given',\n",
       " 'to',\n",
       " 'the',\n",
       " 'oswald',\n",
       " 'maximum',\n",
       " 'security',\n",
       " 'state',\n",
       " 'penitentary',\n",
       " 'it',\n",
       " 'focuses',\n",
       " 'mainly',\n",
       " 'on',\n",
       " 'emerald',\n",
       " 'city',\n",
       " 'an',\n",
       " 'experimental',\n",
       " 'section',\n",
       " 'of',\n",
       " 'the',\n",
       " 'prison',\n",
       " 'where',\n",
       " 'all',\n",
       " 'the',\n",
       " 'cells',\n",
       " 'have',\n",
       " 'glass',\n",
       " 'fronts',\n",
       " 'and',\n",
       " 'face',\n",
       " 'inwards',\n",
       " 'so',\n",
       " 'privacy',\n",
       " 'is',\n",
       " 'not',\n",
       " 'high',\n",
       " 'on',\n",
       " 'the',\n",
       " 'agenda',\n",
       " 'em',\n",
       " 'city',\n",
       " 'is',\n",
       " 'home',\n",
       " 'to',\n",
       " 'many',\n",
       " 'aryans',\n",
       " 'muslims',\n",
       " 'gangstas',\n",
       " 'latinos',\n",
       " 'christians',\n",
       " 'italians',\n",
       " 'irish',\n",
       " 'and',\n",
       " 'more',\n",
       " 'so',\n",
       " 'scuffles',\n",
       " 'death',\n",
       " 'stares',\n",
       " 'dodgy',\n",
       " 'dealings',\n",
       " 'and',\n",
       " 'shady',\n",
       " 'agreements',\n",
       " 'are',\n",
       " 'never',\n",
       " 'far',\n",
       " 'away',\n",
       " 'br',\n",
       " 'br',\n",
       " 'would',\n",
       " 'say',\n",
       " 'the',\n",
       " 'main',\n",
       " 'appeal',\n",
       " 'of',\n",
       " 'the',\n",
       " 'show',\n",
       " 'is',\n",
       " 'due',\n",
       " 'to',\n",
       " 'the',\n",
       " 'fact',\n",
       " 'that',\n",
       " 'it',\n",
       " 'goes',\n",
       " 'where',\n",
       " 'other',\n",
       " 'shows',\n",
       " 'wouldn',\n",
       " 'dare',\n",
       " 'forget',\n",
       " 'pretty',\n",
       " 'pictures',\n",
       " 'painted',\n",
       " 'for',\n",
       " 'mainstream',\n",
       " 'audiences',\n",
       " 'forget',\n",
       " 'charm',\n",
       " 'forget',\n",
       " 'romance',\n",
       " 'oz',\n",
       " 'doesn',\n",
       " 'mess',\n",
       " 'around',\n",
       " 'the',\n",
       " 'first',\n",
       " 'episode',\n",
       " 'ever',\n",
       " 'saw',\n",
       " 'struck',\n",
       " 'me',\n",
       " 'as',\n",
       " 'so',\n",
       " 'nasty',\n",
       " 'it',\n",
       " 'was',\n",
       " 'surreal',\n",
       " 'couldn',\n",
       " 'say',\n",
       " 'was',\n",
       " 'ready',\n",
       " 'for',\n",
       " 'it',\n",
       " 'but',\n",
       " 'as',\n",
       " 'watched',\n",
       " 'more',\n",
       " 'developed',\n",
       " 'taste',\n",
       " 'for',\n",
       " 'oz',\n",
       " 'and',\n",
       " 'got',\n",
       " 'accustomed',\n",
       " 'to',\n",
       " 'the',\n",
       " 'high',\n",
       " 'levels',\n",
       " 'of',\n",
       " 'graphic',\n",
       " 'violence',\n",
       " 'not',\n",
       " 'just',\n",
       " 'violence',\n",
       " 'but',\n",
       " 'injustice',\n",
       " 'crooked',\n",
       " 'guards',\n",
       " 'who',\n",
       " 'll',\n",
       " 'be',\n",
       " 'sold',\n",
       " 'out',\n",
       " 'for',\n",
       " 'nickel',\n",
       " 'inmates',\n",
       " 'who',\n",
       " 'll',\n",
       " 'kill',\n",
       " 'on',\n",
       " 'order',\n",
       " 'and',\n",
       " 'get',\n",
       " 'away',\n",
       " 'with',\n",
       " 'it',\n",
       " 'well',\n",
       " 'mannered',\n",
       " 'middle',\n",
       " 'class',\n",
       " 'inmates',\n",
       " 'being',\n",
       " 'turned',\n",
       " 'into',\n",
       " 'prison',\n",
       " 'bitches',\n",
       " 'due',\n",
       " 'to',\n",
       " 'their',\n",
       " 'lack',\n",
       " 'of',\n",
       " 'street',\n",
       " 'skills',\n",
       " 'or',\n",
       " 'prison',\n",
       " 'experience',\n",
       " 'watching',\n",
       " 'oz',\n",
       " 'you',\n",
       " 'may',\n",
       " 'become',\n",
       " 'comfortable',\n",
       " 'with',\n",
       " 'what',\n",
       " 'is',\n",
       " 'uncomfortable',\n",
       " 'viewing',\n",
       " 'thats',\n",
       " 'if',\n",
       " 'you',\n",
       " 'can',\n",
       " 'get',\n",
       " 'in',\n",
       " 'touch',\n",
       " 'with',\n",
       " 'your',\n",
       " 'darker',\n",
       " 'side']"
      ]
     },
     "execution_count": 11,
     "metadata": {},
     "output_type": "execute_result"
    }
   ],
   "source": [
    "review.loc[0]"
   ]
  },
  {
   "cell_type": "code",
   "execution_count": 14,
   "id": "9c64ac0f",
   "metadata": {},
   "outputs": [
    {
     "data": {
      "text/plain": [
       "['based',\n",
       " 'on',\n",
       " 'edgar',\n",
       " 'rice',\n",
       " 'burroughs',\n",
       " 'novel',\n",
       " 'at',\n",
       " 'the',\n",
       " 'earth',\n",
       " 'core',\n",
       " 'provides',\n",
       " 'little',\n",
       " 'more',\n",
       " 'than',\n",
       " 'means',\n",
       " 'to',\n",
       " 'escape',\n",
       " 'and',\n",
       " 'give',\n",
       " 'your',\n",
       " 'brain',\n",
       " 'rest',\n",
       " 'victorian',\n",
       " 'scientist',\n",
       " 'dr',\n",
       " 'abner',\n",
       " 'perry',\n",
       " 'peter',\n",
       " 'cushing',\n",
       " 'invents',\n",
       " 'giant',\n",
       " 'burrowing',\n",
       " 'machine',\n",
       " 'which',\n",
       " 'he',\n",
       " 'and',\n",
       " 'his',\n",
       " 'american',\n",
       " 'partner',\n",
       " 'doug',\n",
       " 'mcclure',\n",
       " 'use',\n",
       " 'to',\n",
       " 'corkscrew',\n",
       " 'their',\n",
       " 'way',\n",
       " 'deep',\n",
       " 'into',\n",
       " 'the',\n",
       " 'earth',\n",
       " 'to',\n",
       " 'explore',\n",
       " 'what',\n",
       " 'mysteries',\n",
       " 'it',\n",
       " 'may',\n",
       " 'hold',\n",
       " 'they',\n",
       " 'soon',\n",
       " 'discover',\n",
       " 'lost',\n",
       " 'world',\n",
       " 'of',\n",
       " 'subhuman',\n",
       " 'creatures',\n",
       " 'having',\n",
       " 'conflict',\n",
       " 'with',\n",
       " 'prehistoric',\n",
       " 'monsters',\n",
       " 'br',\n",
       " 'br',\n",
       " 'cushing',\n",
       " 'comes',\n",
       " 'across',\n",
       " 'as',\n",
       " 'an',\n",
       " 'absent',\n",
       " 'minded',\n",
       " 'professor',\n",
       " 'to',\n",
       " 'the',\n",
       " 'point',\n",
       " 'of',\n",
       " 'being',\n",
       " 'annoying',\n",
       " 'instead',\n",
       " 'of',\n",
       " 'being',\n",
       " 'bold',\n",
       " 'adventurer',\n",
       " 'he',\n",
       " 'comes',\n",
       " 'across',\n",
       " 'effeminate',\n",
       " 'on',\n",
       " 'the',\n",
       " 'other',\n",
       " 'hand',\n",
       " 'mcclure',\n",
       " 'overacted',\n",
       " 'enough',\n",
       " 'to',\n",
       " 'make',\n",
       " 'himself',\n",
       " 'also',\n",
       " 'laughable',\n",
       " 'caroline',\n",
       " 'munro',\n",
       " 'plays',\n",
       " 'the',\n",
       " 'pretty',\n",
       " 'princess',\n",
       " 'dia',\n",
       " 'that',\n",
       " 'refuses',\n",
       " 'to',\n",
       " 'leave',\n",
       " 'her',\n",
       " 'world',\n",
       " 'near',\n",
       " 'the',\n",
       " 'center',\n",
       " 'of',\n",
       " 'the',\n",
       " 'earth',\n",
       " 'also',\n",
       " 'in',\n",
       " 'the',\n",
       " 'cast',\n",
       " 'are',\n",
       " 'godfrey',\n",
       " 'james',\n",
       " 'cy',\n",
       " 'grant',\n",
       " 'and',\n",
       " 'michael',\n",
       " 'crane']"
      ]
     },
     "execution_count": 14,
     "metadata": {},
     "output_type": "execute_result"
    }
   ],
   "source": [
    "review.loc[244]"
   ]
  },
  {
   "cell_type": "code",
   "execution_count": 15,
   "id": "e91c4186",
   "metadata": {},
   "outputs": [
    {
     "data": {
      "text/plain": [
       "\"Based on a Edgar Rice Burroughs novel, AT THE EARTH'S CORE provides little more than means to escape and give your brain a rest. A Victorian scientist Dr. Abner Perry(Peter Cushing)invents a giant burrowing machine, which he and his American partner(Doug McClure)use to corkscrew their way deep into the earth to explore what mysteries it may hold. They soon discover a lost world of subhuman creatures having conflict with prehistoric monsters.<br /><br />Cushing comes across as an absent minded professor to the point of being annoying. Instead of being a bold adventurer, he comes across effeminate. On the other hand McClure overacted enough to make himself also laughable. Caroline Munro plays the pretty Princess Dia that refuses to leave her world near the center of the earth. Also in the cast are: Godfrey James, Cy Grant and Michael Crane.\""
      ]
     },
     "execution_count": 15,
     "metadata": {},
     "output_type": "execute_result"
    }
   ],
   "source": [
    "df.review.loc[244]"
   ]
  },
  {
   "cell_type": "markdown",
   "id": "d232dfe0",
   "metadata": {},
   "source": [
    "Training the Word2Vec Model\n",
    "Train the model for reviews. Use a window of size 6(ur wish) i.e. 6 words before the present word and 6 words ahead. A sentence with at least 2 words should only be considered, configure this using min_count parameter.\n",
    "\n",
    "Workers define how many CPU threads to be used."
   ]
  },
  {
   "cell_type": "markdown",
   "id": "90c85c0c",
   "metadata": {},
   "source": [
    "***INITIALIZE THE MODEL****"
   ]
  },
  {
   "cell_type": "code",
   "execution_count": 16,
   "id": "42087a3c",
   "metadata": {},
   "outputs": [],
   "source": [
    "model = gensim.models.Word2Vec(\n",
    "    window=6,\n",
    "    min_count=2,\n",
    "    workers=4,\n",
    ")"
   ]
  },
  {
   "cell_type": "markdown",
   "id": "b36ec3a4",
   "metadata": {},
   "source": [
    "**BUILD VOCABULARY**"
   ]
  },
  {
   "cell_type": "code",
   "execution_count": 17,
   "id": "e259e320",
   "metadata": {},
   "outputs": [],
   "source": [
    "model.build_vocab(review, progress_per=200)"
   ]
  },
  {
   "cell_type": "markdown",
   "id": "64f3cb06",
   "metadata": {},
   "source": [
    "**TRAIN THE WORD2VEC MODEL**"
   ]
  },
  {
   "cell_type": "code",
   "execution_count": 18,
   "id": "914f0671",
   "metadata": {},
   "outputs": [],
   "source": [
    "model.epochs=5"
   ]
  },
  {
   "cell_type": "code",
   "execution_count": 19,
   "id": "46dae90f",
   "metadata": {},
   "outputs": [
    {
     "data": {
      "text/plain": [
       "249"
      ]
     },
     "execution_count": 19,
     "metadata": {},
     "output_type": "execute_result"
    }
   ],
   "source": [
    "total_examples=model.corpus_count\n",
    "total_examples"
   ]
  },
  {
   "cell_type": "code",
   "execution_count": 20,
   "id": "a3ed117e",
   "metadata": {},
   "outputs": [
    {
     "data": {
      "text/plain": [
       "(183833, 272600)"
      ]
     },
     "execution_count": 20,
     "metadata": {},
     "output_type": "execute_result"
    }
   ],
   "source": [
    "model.train(review, total_examples=model.corpus_count, epochs=model.epochs)\n"
   ]
  },
  {
   "cell_type": "markdown",
   "id": "3fe88d55",
   "metadata": {},
   "source": [
    "***Finding Similar Words and Similarity between words****"
   ]
  },
  {
   "cell_type": "code",
   "execution_count": 23,
   "id": "61c0ac80",
   "metadata": {},
   "outputs": [
    {
     "data": {
      "text/plain": [
       "[('points', 0.9858283996582031),\n",
       " ('making', 0.985491931438446),\n",
       " ('memorable', 0.985313892364502),\n",
       " ('above', 0.9853003621101379),\n",
       " ('far', 0.9852741360664368),\n",
       " ('idea', 0.9852015972137451),\n",
       " ('think', 0.9851778745651245),\n",
       " ('down', 0.9851510524749756),\n",
       " ('comes', 0.985120952129364),\n",
       " ('ups', 0.9850931167602539)]"
      ]
     },
     "execution_count": 23,
     "metadata": {},
     "output_type": "execute_result"
    }
   ],
   "source": [
    "model.wv.most_similar(\"hooked\")"
   ]
  },
  {
   "cell_type": "code",
   "execution_count": 25,
   "id": "f5a7678b",
   "metadata": {},
   "outputs": [
    {
     "data": {
      "text/plain": [
       "0.994768"
      ]
     },
     "execution_count": 25,
     "metadata": {},
     "output_type": "execute_result"
    }
   ],
   "source": [
    "model.wv.similarity(w1=\"good\", w2=\"glad\")\n"
   ]
  },
  {
   "cell_type": "code",
   "execution_count": 26,
   "id": "a02e241d",
   "metadata": {},
   "outputs": [
    {
     "data": {
      "text/plain": [
       "0.95729357"
      ]
     },
     "execution_count": 26,
     "metadata": {},
     "output_type": "execute_result"
    }
   ],
   "source": [
    "model.wv.similarity(w1=\"memorable\", w2=\"notable\")"
   ]
  },
  {
   "cell_type": "code",
   "execution_count": 27,
   "id": "b761172a",
   "metadata": {},
   "outputs": [
    {
     "data": {
      "text/plain": [
       "0.9986893"
      ]
     },
     "execution_count": 27,
     "metadata": {},
     "output_type": "execute_result"
    }
   ],
   "source": [
    "model.wv.similarity(w1=\"idea\", w2=\"thought\")"
   ]
  }
 ],
 "metadata": {
  "kernelspec": {
   "display_name": "Python 3 (ipykernel)",
   "language": "python",
   "name": "python3"
  },
  "language_info": {
   "codemirror_mode": {
    "name": "ipython",
    "version": 3
   },
   "file_extension": ".py",
   "mimetype": "text/x-python",
   "name": "python",
   "nbconvert_exporter": "python",
   "pygments_lexer": "ipython3",
   "version": "3.9.12"
  }
 },
 "nbformat": 4,
 "nbformat_minor": 5
}
